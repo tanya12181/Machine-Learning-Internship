{
 "cells": [
  {
   "cell_type": "code",
   "execution_count": 1,
   "metadata": {},
   "outputs": [],
   "source": [
    "import numpy as np\n",
    "import matplotlib.pyplot as plt\n",
    "import seaborn as sns\n",
    "import pandas as pd\n",
    "import cv2\n",
    "%matplotlib inline"
   ]
  },
  {
   "cell_type": "code",
   "execution_count": 2,
   "metadata": {},
   "outputs": [
    {
     "name": "stdout",
     "output_type": "stream",
     "text": [
      "(163, 310, 3)\n"
     ]
    }
   ],
   "source": [
    "img = cv2.imread('doggo.jpeg')\n",
    "print(img.shape)"
   ]
  },
  {
   "cell_type": "code",
   "execution_count": 3,
   "metadata": {},
   "outputs": [
    {
     "data": {
      "text/plain": [
       "(50530, 3)"
      ]
     },
     "execution_count": 3,
     "metadata": {},
     "output_type": "execute_result"
    }
   ],
   "source": [
    "img = cv2.cvtColor(img,cv2.COLOR_BGR2RGB)\n",
    "nimg=img.reshape((-1,3))\n",
    "nimg.shape"
   ]
  },
  {
   "cell_type": "code",
   "execution_count": 4,
   "metadata": {},
   "outputs": [
    {
     "name": "stdout",
     "output_type": "stream",
     "text": [
      "[[129 113  80]\n",
      " [129 113  80]\n",
      " [129 113  80]\n",
      " [129 112  82]\n",
      " [129 112  82]]\n"
     ]
    }
   ],
   "source": [
    "print(nimg[:5,:])"
   ]
  },
  {
   "cell_type": "code",
   "execution_count": 5,
   "metadata": {},
   "outputs": [],
   "source": [
    "from random import uniform\n",
    "from random import seed\n",
    "import math\n",
    "\n",
    "seed(5)\n",
    "\n",
    "def randomCentroid(df,k):\n",
    "    centroid=[]\n",
    "    while(len(centroid)<k):\n",
    "        r=[]\n",
    "        for i in range(df.shape[1]):\n",
    "            r.append(uniform(np.min(df[:,i]),np.max(df[:,i])))\n",
    "        if r not in centroid:\n",
    "            centroid.append(r)\n",
    "    return centroid\n",
    "\n",
    "\n",
    "def FindDistance(r1,r2):\n",
    "    return np.sum((r1-r2)**2)\n",
    "\n",
    "\n",
    "def group_data(df,k,centroid):\n",
    "    groups={i:list() for i in np.arange(k)}\n",
    "    for r in range(df.shape[0]):\n",
    "        label=None\n",
    "        min_dis=None\n",
    "        for c in range(k):\n",
    "            cen = np.array(centroid[c])\n",
    "            dis = FindDistance(df[r,:],cen)\n",
    "            if min_dis is None or min_dis>dis:\n",
    "                min_dis=dis\n",
    "                label=c\n",
    "        groups[label].append(df[r,:])\n",
    "    return groups\n",
    "\n",
    "\n",
    "def KMeans(df,k):\n",
    "    cen=randomCentroid(df,k) #centroids\n",
    "    #print(cen)\n",
    "    grps=group_data(df,k,cen)   \n",
    "    ncen=[] #new centroids\n",
    "    for key in grps.keys():\n",
    "        arr = np.array(grps[key])\n",
    "        #print(arr)\n",
    "        ls = list(np.mean(arr,axis=0))\n",
    "        ncen.append(ls)\n",
    "        \n",
    "    while ncen!=cen:\n",
    "        cen=ncen\n",
    "        ncen=list()\n",
    "        grps=group_data(df,k,cen)\n",
    "        for key in grps.keys():\n",
    "            arr = np.array(grps[key])\n",
    "            ls = list(np.mean(arr,axis=0))\n",
    "            ncen.append(ls)\n",
    "            \n",
    "    return grps,cen"
   ]
  },
  {
   "cell_type": "code",
   "execution_count": 6,
   "metadata": {},
   "outputs": [
    {
     "name": "stdout",
     "output_type": "stream",
     "text": [
      "centroids:\n",
      " [[196.69774078478002, 157.12419738406658, 117.8793697978597], [220.64793457747956, 189.98979520514433, 156.23827497029427], [68.00755395683453, 54.88201438848921, 48.64568345323741], [146.56235336581844, 118.82018889490465, 87.67929976538531]]\n"
     ]
    }
   ],
   "source": [
    "k=4\n",
    "grps,centroid = KMeans(nimg,k)\n",
    "\n",
    "#print(\"groups:\\n\",grps)\n",
    "\n",
    "print(\"centroids:\\n\",centroid)"
   ]
  },
  {
   "cell_type": "code",
   "execution_count": 7,
   "metadata": {},
   "outputs": [
    {
     "name": "stdout",
     "output_type": "stream",
     "text": [
      "after converting centroids from float to int:\n",
      "[[196, 157, 117], [220, 189, 156], [68, 54, 48], [146, 118, 87]]\n"
     ]
    }
   ],
   "source": [
    "import math\n",
    "for i in range(len(centroid)):\n",
    "    for j in range(len(centroid[i])):\n",
    "        centroid[i][j] = int(centroid[i][j])\n",
    "print(\"after converting centroids from float to int:\")\n",
    "print(centroid)"
   ]
  },
  {
   "cell_type": "code",
   "execution_count": 8,
   "metadata": {},
   "outputs": [
    {
     "name": "stdout",
     "output_type": "stream",
     "text": [
      "[0, 1, 2, 3]\n",
      "[16820, 14307, 2780, 16623]\n"
     ]
    },
    {
     "data": {
      "text/plain": [
       "<BarContainer object of 4 artists>"
      ]
     },
     "execution_count": 8,
     "metadata": {},
     "output_type": "execute_result"
    },
    {
     "data": {
      "image/png": "[encoded data removed]",
      "text/plain": [
       "<Figure size 432x288 with 1 Axes>"
      ]
     },
     "metadata": {
      "needs_background": "light"
     },
     "output_type": "display_data"
    }
   ],
   "source": [
    "x=list(range(0,k))\n",
    "y=[]\n",
    "for key in grps.keys():\n",
    "    y.append(len(grps[key]))\n",
    "\n",
    "print(x)\n",
    "print(y)\n",
    "color=[]\n",
    "for i in range(len(centroid)):\n",
    "    c=[]\n",
    "    for j in range(len(centroid[i])):\n",
    "        c.append(centroid[i][j]/255)\n",
    "    color.append(tuple(c))\n",
    "\n",
    "plt.bar(x,y,color=color)"
   ]
  },
  {
   "cell_type": "code",
   "execution_count": null,
   "metadata": {},
   "outputs": [],
   "source": []
  }
 ],
 "metadata": {
  "kernelspec": {
   "display_name": "Python 3",
   "language": "python",
   "name": "python3"
  },
  "language_info": {
   "codemirror_mode": {
    "name": "ipython",
    "version": 3
   },
   "file_extension": ".py",
   "mimetype": "text/x-python",
   "name": "python",
   "nbconvert_exporter": "python",
   "pygments_lexer": "ipython3",
   "version": "3.7.7"
  }
 },
 "nbformat": 4,
 "nbformat_minor": 4
}
