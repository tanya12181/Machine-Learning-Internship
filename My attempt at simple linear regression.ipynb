{
 "cells": [
  {
   "cell_type": "code",
   "execution_count": 1,
   "metadata": {},
   "outputs": [],
   "source": [
    "import matplotlib.pyplot as plt\n",
    "import random\n",
    "import numpy as np\n",
    "import pandas as pd\n",
    "import seaborn as sns\n",
    "%matplotlib inline"
   ]
  },
  {
   "cell_type": "code",
   "execution_count": 2,
   "metadata": {},
   "outputs": [
    {
     "data": {
      "text/html": [
       "<div>\n",
       "<style scoped>\n",
       "    .dataframe tbody tr th:only-of-type {\n",
       "        vertical-align: middle;\n",
       "    }\n",
       "\n",
       "    .dataframe tbody tr th {\n",
       "        vertical-align: top;\n",
       "    }\n",
       "\n",
       "    .dataframe thead th {\n",
       "        text-align: right;\n",
       "    }\n",
       "</style>\n",
       "<table border=\"1\" class=\"dataframe\">\n",
       "  <thead>\n",
       "    <tr style=\"text-align: right;\">\n",
       "      <th></th>\n",
       "      <th>total_bill</th>\n",
       "      <th>tip</th>\n",
       "      <th>sex</th>\n",
       "      <th>smoker</th>\n",
       "      <th>day</th>\n",
       "      <th>time</th>\n",
       "      <th>size</th>\n",
       "    </tr>\n",
       "  </thead>\n",
       "  <tbody>\n",
       "    <tr>\n",
       "      <th>0</th>\n",
       "      <td>16.99</td>\n",
       "      <td>1.01</td>\n",
       "      <td>Female</td>\n",
       "      <td>No</td>\n",
       "      <td>Sun</td>\n",
       "      <td>Dinner</td>\n",
       "      <td>2</td>\n",
       "    </tr>\n",
       "    <tr>\n",
       "      <th>1</th>\n",
       "      <td>10.34</td>\n",
       "      <td>1.66</td>\n",
       "      <td>Male</td>\n",
       "      <td>No</td>\n",
       "      <td>Sun</td>\n",
       "      <td>Dinner</td>\n",
       "      <td>3</td>\n",
       "    </tr>\n",
       "    <tr>\n",
       "      <th>2</th>\n",
       "      <td>21.01</td>\n",
       "      <td>3.50</td>\n",
       "      <td>Male</td>\n",
       "      <td>No</td>\n",
       "      <td>Sun</td>\n",
       "      <td>Dinner</td>\n",
       "      <td>3</td>\n",
       "    </tr>\n",
       "    <tr>\n",
       "      <th>3</th>\n",
       "      <td>23.68</td>\n",
       "      <td>3.31</td>\n",
       "      <td>Male</td>\n",
       "      <td>No</td>\n",
       "      <td>Sun</td>\n",
       "      <td>Dinner</td>\n",
       "      <td>2</td>\n",
       "    </tr>\n",
       "    <tr>\n",
       "      <th>4</th>\n",
       "      <td>24.59</td>\n",
       "      <td>3.61</td>\n",
       "      <td>Female</td>\n",
       "      <td>No</td>\n",
       "      <td>Sun</td>\n",
       "      <td>Dinner</td>\n",
       "      <td>4</td>\n",
       "    </tr>\n",
       "  </tbody>\n",
       "</table>\n",
       "</div>"
      ],
      "text/plain": [
       "   total_bill   tip     sex smoker  day    time  size\n",
       "0       16.99  1.01  Female     No  Sun  Dinner     2\n",
       "1       10.34  1.66    Male     No  Sun  Dinner     3\n",
       "2       21.01  3.50    Male     No  Sun  Dinner     3\n",
       "3       23.68  3.31    Male     No  Sun  Dinner     2\n",
       "4       24.59  3.61  Female     No  Sun  Dinner     4"
      ]
     },
     "execution_count": 2,
     "metadata": {},
     "output_type": "execute_result"
    }
   ],
   "source": [
    "df = sns.load_dataset(\"tips\")\n",
    "df.head()"
   ]
  },
  {
   "cell_type": "code",
   "execution_count": 3,
   "metadata": {},
   "outputs": [
    {
     "data": {
      "text/plain": [
       "Index(['total_bill', 'tip', 'sex', 'smoker', 'day', 'time', 'size'], dtype='object')"
      ]
     },
     "execution_count": 3,
     "metadata": {},
     "output_type": "execute_result"
    }
   ],
   "source": [
    "df.columns"
   ]
  },
  {
   "cell_type": "code",
   "execution_count": 4,
   "metadata": {},
   "outputs": [
    {
     "data": {
      "text/plain": [
       "total_bill    0\n",
       "tip           0\n",
       "sex           0\n",
       "smoker        0\n",
       "day           0\n",
       "time          0\n",
       "size          0\n",
       "dtype: int64"
      ]
     },
     "execution_count": 4,
     "metadata": {},
     "output_type": "execute_result"
    }
   ],
   "source": [
    "df.isnull().sum()"
   ]
  },
  {
   "cell_type": "code",
   "execution_count": 5,
   "metadata": {},
   "outputs": [
    {
     "data": {
      "text/plain": [
       "[(0.6757341092113641, 'total_bill'), (0.48929877523035775, 'size')]"
      ]
     },
     "execution_count": 5,
     "metadata": {},
     "output_type": "execute_result"
    }
   ],
   "source": [
    "pcc=[]\n",
    "for col in df.columns:\n",
    "    if df[col].dtype==np.int64 or df[col].dtype==np.float64 and col!='tip':\n",
    "        coeff=np.corrcoef(df[col],df['tip'])[0][1]\n",
    "        pcc.append((coeff,col))\n",
    "sorted(pcc,reverse=True)"
   ]
  },
  {
   "cell_type": "code",
   "execution_count": 6,
   "metadata": {},
   "outputs": [
    {
     "name": "stdout",
     "output_type": "stream",
     "text": [
      "mean for x variable:  19.785942622950824\n",
      "mean for y variable:  2.9982786885245902\n",
      "sst =  465.21247704918085\n",
      "calculated slope:  0.10502451738435341\n",
      "calculated intercept:  0.9202696135546722\n"
     ]
    },
    {
     "data": {
      "text/plain": [
       "[<matplotlib.lines.Line2D at 0x1afbaaa8508>]"
      ]
     },
     "execution_count": 6,
     "metadata": {},
     "output_type": "execute_result"
    },
    {
     "data": {
      "image/png": "[encoded data removed]",
      "text/plain": [
       "<Figure size 432x288 with 1 Axes>"
      ]
     },
     "metadata": {
      "needs_background": "light"
     },
     "output_type": "display_data"
    }
   ],
   "source": [
    "# Looking at the dataset, our dependent (or response) variable is tip while \n",
    "# rest of them are our independent or predictor variables\n",
    "# I wanted to try out simple linear regression first, so I chose the \n",
    "# the predictor variable with the highest linear correlation with 'tip'.\n",
    "x=df[pcc[0][1]]\n",
    "y=df['tip']\n",
    "xmean = np.mean(x)\n",
    "ymean = np.mean(y)\n",
    "print('mean for x variable: ',xmean)\n",
    "print('mean for y variable: ',ymean)\n",
    "plt.scatter(x,y,c='r')\n",
    "plt.xlabel(pcc[0][1])\n",
    "plt.ylabel('tip')\n",
    "\n",
    "#plotting the line passing through mean value\n",
    "#parallel to x-axis\n",
    "plt.plot(x,np.full(x.shape,ymean),c='b')\n",
    "plt.plot(np.full(x.shape,xmean),y,c='b')\n",
    "#finding total sum of squares\n",
    "#sst = np.sum((y-ymean)**2)\n",
    "sst=0\n",
    "for i in range(len(y)):\n",
    "    sst+=((y[i]-ymean)**2)\n",
    "print('sst = ',sst)\n",
    "# the intersection point in the graph below gives us the \n",
    "# point (xmean, ymean)\n",
    "\n",
    "#calculating slope using least squares method\n",
    "r1 = np.sum((x-xmean)*(y-ymean)) # equivalent to covariance b/w x and y\n",
    "r2 = np.sum((x-xmean)**2) # equivalent of variance of x\n",
    "b1 = r1/r2\n",
    "b0 = ymean-b1*xmean\n",
    "print('calculated slope: ',b1)\n",
    "print('calculated intercept: ',b0)\n",
    "py = b1*x + b0\n",
    "plt.plot(x,py,c='g')"
   ]
  },
  {
   "cell_type": "code",
   "execution_count": 7,
   "metadata": {},
   "outputs": [
    {
     "name": "stdout",
     "output_type": "stream",
     "text": [
      "r^2 value =  0.4566165863516771\n",
      "sum of square errors =  252.78874385077597\n",
      "b0 calculated using least squares:  0.9202696135546722\n",
      "b1 calculated using least squares:  0.10502451738435341\n",
      "19.785756638845204 2.998270858890589\n"
     ]
    },
    {
     "data": {
      "text/plain": [
       "44854234.18288959"
      ]
     },
     "execution_count": 7,
     "metadata": {},
     "output_type": "execute_result"
    }
   ],
   "source": [
    "#py is the predicted y value from calculated b1 and b0 values\n",
    "#loss(x,y,b1,b0) finds the sum of square errors\n",
    "#done by finding the difference between the original and predicted y-values\n",
    "\n",
    "def loss(x,y,b1,b0):\n",
    "    #sse = np.sum((y-b1*x-b0)**2)\n",
    "    sse=0\n",
    "    for i in range(len(y)):\n",
    "        sse+=((y[i]-b1*x[i]-b0)**2)\n",
    "    return sse\n",
    "\n",
    "#finding r^2 values based on our sse value\n",
    "#(sst-sse) = ssr\n",
    "sse = loss(x,y,b1,b0)\n",
    "r2 = 1-(sse/sst)\n",
    "\n",
    "# if the r2 value is nearly 1 or closer to it, then our regression line \n",
    "# has a good fit w.r.t our dataset\n",
    "print('r^2 value = ',r2)\n",
    "print('sum of square errors = ',sse)\n",
    "\n",
    "# defining the loss function which is, summation of squares of \n",
    "# differences b/w prediction value and original y\n",
    "# and then finding out their mean \n",
    "# we can say (sse/n) where n is the no. of data values in dataset\n",
    "\n",
    "print('b0 calculated using least squares: ',b0)\n",
    "print('b1 calculated using least squares: ',b1)\n",
    "\n",
    "#np.seterr(divide='ignore', invalid='ignore')\n",
    "\n",
    "def optimize_loss(x,y,b1,b0,b_one,b_zero,cost,min_cost):\n",
    "    n=len(y)\n",
    "    alpha = 0.0000000001\n",
    "    iterate = 100\n",
    "    for i in range(iterate):\n",
    "        derivative_b1 = (-2/n)*np.sum((y-b1*x-b0)*x)\n",
    "        derivative_b0 = (-2/n)*np.sum(y-b1*x-b0)\n",
    "        b1 = b1 - alpha*derivative_b1\n",
    "        b0 = b0 - alpha*derivative_b0\n",
    "        b_one.append(b1)\n",
    "        b_zero.append(b0)\n",
    "        n_cost=loss(x,y,b1,b0)\n",
    "        cost.append(n_cost)\n",
    "        if min_cost is None or min_cost>n_cost:\n",
    "            b1_min=b1\n",
    "            b0_min=b0\n",
    "            min_cost=n_cost\n",
    "    return b1_min,b0_min\n",
    "b_one=[]\n",
    "b_zero=[]\n",
    "cost=[]\n",
    "b0=ymean\n",
    "b1=xmean\n",
    "min_cost=None\n",
    "b1,b0 = optimize_loss(x,y,b1,b0,b_one,b_zero,cost,min_cost)\n",
    "print(b1,b0)\n",
    "sse = loss(x,y,b1,b0)\n",
    "sse"
   ]
  },
  {
   "cell_type": "code",
   "execution_count": 8,
   "metadata": {},
   "outputs": [
    {
     "data": {
      "text/plain": [
       "Text(0, 0.5, 'cost function')"
      ]
     },
     "execution_count": 8,
     "metadata": {},
     "output_type": "execute_result"
    },
    {
     "data": {
      "image/png": "[encoded data removed]",
      "text/plain": [
       "<Figure size 432x288 with 1 Axes>"
      ]
     },
     "metadata": {
      "needs_background": "light"
     },
     "output_type": "display_data"
    }
   ],
   "source": [
    "b1i = np.array(b_one)\n",
    "b0i = np.array(b_zero)\n",
    "costi=np.array(cost)\n",
    "#feature scaling using standardization\n",
    "costi =(costi-np.mean(costi))/np.std(costi)\n",
    "b1i  = (b1i-np.mean(b1i))/np.std(b1i)\n",
    "b0i  = (b0i-np.mean(b0i))/np.std(b0i)\n",
    "plt.scatter(b1i,costi,c='b')\n",
    "plt.xlabel('b1')\n",
    "plt.ylabel('cost function')"
   ]
  },
  {
   "cell_type": "code",
   "execution_count": 9,
   "metadata": {},
   "outputs": [
    {
     "data": {
      "text/plain": [
       "Text(0, 0.5, 'cost function')"
      ]
     },
     "execution_count": 9,
     "metadata": {},
     "output_type": "execute_result"
    },
    {
     "data": {
      "image/png": "[encoded data removed]",
      "text/plain": [
       "<Figure size 432x288 with 1 Axes>"
      ]
     },
     "metadata": {
      "needs_background": "light"
     },
     "output_type": "display_data"
    }
   ],
   "source": [
    "plt.scatter(b0i,costi,c='orange')\n",
    "plt.xlabel('b0')\n",
    "plt.ylabel('cost function')"
   ]
  },
  {
   "cell_type": "code",
   "execution_count": 10,
   "metadata": {},
   "outputs": [
    {
     "data": {
      "text/plain": [
       "<matplotlib.collections.PathCollection at 0x1afbac285c8>"
      ]
     },
     "execution_count": 10,
     "metadata": {},
     "output_type": "execute_result"
    },
    {
     "data": {
      "image/png": "[encoded data removed]",
      "text/plain": [
       "<Figure size 432x288 with 1 Axes>"
      ]
     },
     "metadata": {
      "needs_background": "light"
     },
     "output_type": "display_data"
    }
   ],
   "source": [
    "plt.plot(x,b1*x+b0,'g')\n",
    "plt.scatter(x,y,c='r')"
   ]
  },
  {
   "cell_type": "code",
   "execution_count": 14,
   "metadata": {},
   "outputs": [
    {
     "data": {
      "text/plain": [
       "array([[1.],\n",
       "       [1.],\n",
       "       [1.],\n",
       "       [1.]])"
      ]
     },
     "execution_count": 14,
     "metadata": {},
     "output_type": "execute_result"
    }
   ],
   "source": [
    "np.ones((4,1))"
   ]
  },
  {
   "cell_type": "code",
   "execution_count": null,
   "metadata": {},
   "outputs": [],
   "source": []
  }
 ],
 "metadata": {
  "kernelspec": {
   "display_name": "Python 3",
   "language": "python",
   "name": "python3"
  },
  "language_info": {
   "codemirror_mode": {
    "name": "ipython",
    "version": 3
   },
   "file_extension": ".py",
   "mimetype": "text/x-python",
   "name": "python",
   "nbconvert_exporter": "python",
   "pygments_lexer": "ipython3",
   "version": "3.7.6"
  }
 },
 "nbformat": 4,
 "nbformat_minor": 4
}
