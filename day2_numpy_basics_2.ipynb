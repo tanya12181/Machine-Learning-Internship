{
 "cells": [
  {
   "cell_type": "markdown",
   "metadata": {},
   "source": [
    "## Plotting sin function using matplotlib and numpy"
   ]
  },
  {
   "cell_type": "code",
   "execution_count": 1,
   "metadata": {},
   "outputs": [
    {
     "data": {
      "image/png": "[encoded data removed]",
      "text/plain": [
       "<Figure size 432x288 with 1 Axes>"
      ]
     },
     "metadata": {
      "needs_background": "light"
     },
     "output_type": "display_data"
    }
   ],
   "source": [
    "import numpy as np\n",
    "from matplotlib import pyplot as plt\n",
    "\n",
    "x = np.arange(0,4*np.pi,0.1)\n",
    "y = np.sin(x)\n",
    "plt.plot(x,y)\n",
    "plt.show()"
   ]
  },
  {
   "cell_type": "markdown",
   "metadata": {},
   "source": [
    "## Creating a 6 by 6 matrix and placing 1s and 0s alternatively across the diagonal"
   ]
  },
  {
   "cell_type": "code",
   "execution_count": 2,
   "metadata": {},
   "outputs": [
    {
     "name": "stdout",
     "output_type": "stream",
     "text": [
      "[[0. 0. 0. 0. 0. 0.]\n",
      " [1. 0. 1. 0. 1. 0.]\n",
      " [0. 0. 0. 0. 0. 0.]\n",
      " [1. 0. 1. 0. 1. 0.]\n",
      " [0. 0. 0. 0. 0. 0.]\n",
      " [1. 0. 1. 0. 1. 0.]]\n",
      "\n",
      "[[0. 1. 0. 1. 0. 1.]\n",
      " [1. 0. 1. 0. 1. 0.]\n",
      " [0. 1. 0. 1. 0. 1.]\n",
      " [1. 0. 1. 0. 1. 0.]\n",
      " [0. 1. 0. 1. 0. 1.]\n",
      " [1. 0. 1. 0. 1. 0.]]\n"
     ]
    }
   ],
   "source": [
    "a=np.zeros((6,6))\n",
    "b=a\n",
    "b[1::2,::2]=1\n",
    "print(b)\n",
    "print()\n",
    "b=a\n",
    "b[::2,1::2]=1\n",
    "print(b)"
   ]
  },
  {
   "cell_type": "code",
   "execution_count": 3,
   "metadata": {},
   "outputs": [
    {
     "name": "stdout",
     "output_type": "stream",
     "text": [
      "[1 1 2 1 5 2]\n",
      "random matrix:\n",
      "\n",
      " [[0.22487972 0.61069216 0.89195151 0.12477677 0.24409484 0.45269446\n",
      "  0.76292259 0.4998389  0.69405885 0.34055   ]\n",
      " [0.35646616 0.46658448 0.7057287  0.81869468 0.35052538 0.51563294\n",
      "  0.15566532        nan 0.10813394 0.33405122]\n",
      " [0.9741481  0.95151804 0.3815045  0.65670892 0.01808581 0.0711782\n",
      "  0.91153273 0.46644829 0.28728598 0.06222811]\n",
      " [0.92945069 0.29288921 0.9402305         nan 0.02306416 0.07999453\n",
      "  0.15367566 0.67173245 0.51869607 0.35807027]\n",
      " [0.93489167 0.24273954 0.83090504 0.47591698 0.49436216 0.209186\n",
      "  0.83245709 0.69994744 0.55749034 0.389574  ]\n",
      " [0.20421467 0.52391947 0.67175265 0.2654486  0.27158933 0.69974404\n",
      "  0.21394359 0.72620432 0.21895554 0.99643309]\n",
      " [0.38452968 0.08909017 0.9813515         nan 0.98958497 0.194585\n",
      "  0.07768676 0.18606351 0.91204292 0.4715028 ]\n",
      " [0.61031321 0.97881542 0.24112782 0.34837993 0.49418123 0.61510773\n",
      "         nan 0.12969626 0.76056302 0.59133153]\n",
      " [0.32415746 0.01430736 0.18884233 0.00296733 0.7478767  0.27354605\n",
      "  0.18370424 0.85955234        nan 0.9356552 ]\n",
      " [0.00155693 0.89653258 0.81907203 0.68672561 0.91745787 0.15205923\n",
      "  0.26426204 0.61469428 0.53202251 0.6121915 ]]\n",
      "\n",
      "Total no. of missing values:  5\n",
      "\n",
      "Indexes of missing values:\n",
      " [[1 7]\n",
      " [3 3]\n",
      " [6 3]\n",
      " [7 6]\n",
      " [8 8]]\n",
      "\n",
      "printing np.isnan(a) gives:\n",
      "\n",
      "[[False False False False False False False False False False]\n",
      " [False False False False False False False  True False False]\n",
      " [False False False False False False False False False False]\n",
      " [False False False  True False False False False False False]\n",
      " [False False False False False False False False False False]\n",
      " [False False False False False False False False False False]\n",
      " [False False False  True False False False False False False]\n",
      " [False False False False False False  True False False False]\n",
      " [False False False False False False False False  True False]\n",
      " [False False False False False False False False False False]]\n",
      "\n",
      "printing np.where(np.isnan(a)) gives:\n",
      "\n",
      "(array([1, 3, 6, 7, 8], dtype=int64), array([7, 3, 3, 6, 8], dtype=int64))\n"
     ]
    }
   ],
   "source": [
    "#generates random integers b/w low=0 and high=9 both included and size determines the no. of random integers we need\n",
    "#type of the number returned given by dtype\n",
    "\n",
    "print(np.random.randint(0,9,size=6,dtype=int))\n",
    "\n",
    "#below we created a 10 by 10 matrix consisting of random numbers b/w 0 and 10.\n",
    "#Then we assigned any random position in the matrix with nan i.e. not a number\n",
    "\n",
    "a=np.random.rand(10,10)\n",
    "a[np.random.randint(0,9,size=6),np.random.randint(0,9,size=6)]=np.nan\n",
    "print('random matrix:\\n\\n',a)\n",
    "print()\n",
    "print('Total no. of missing values: ',np.isnan(a).sum())\n",
    "print()\n",
    "print('Indexes of missing values:\\n',np.argwhere(np.isnan(a)))\n",
    "print()\n",
    "print('printing np.isnan(a) gives:\\n')\n",
    "print(np.isnan(a))\n",
    "print()\n",
    "print('printing np.where(np.isnan(a)) gives:\\n')\n",
    "indices = np.where(np.isnan(a))\n",
    "print(indices)"
   ]
  },
  {
   "cell_type": "code",
   "execution_count": null,
   "metadata": {},
   "outputs": [],
   "source": []
  }
 ],
 "metadata": {
  "kernelspec": {
   "display_name": "Python 3",
   "language": "python",
   "name": "python3"
  },
  "language_info": {
   "codemirror_mode": {
    "name": "ipython",
    "version": 3
   },
   "file_extension": ".py",
   "mimetype": "text/x-python",
   "name": "python",
   "nbconvert_exporter": "python",
   "pygments_lexer": "ipython3",
   "version": "3.7.6"
  }
 },
 "nbformat": 4,
 "nbformat_minor": 4
}
