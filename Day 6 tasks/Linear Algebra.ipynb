{
 "cells": [
  {
   "cell_type": "code",
   "execution_count": 1,
   "metadata": {},
   "outputs": [],
   "source": [
    "import numpy as np\n",
    "import matplotlib.pyplot as plt\n",
    "import seaborn as sns\n",
    "%matplotlib inline"
   ]
  },
  {
   "cell_type": "code",
   "execution_count": 2,
   "metadata": {},
   "outputs": [
    {
     "name": "stdout",
     "output_type": "stream",
     "text": [
      "[1, 2, 3]\n"
     ]
    },
    {
     "data": {
      "text/plain": [
       "list"
      ]
     },
     "execution_count": 2,
     "metadata": {},
     "output_type": "execute_result"
    }
   ],
   "source": [
    "l = list([1,2,3])\n",
    "print(l)\n",
    "type(l)"
   ]
  },
  {
   "cell_type": "code",
   "execution_count": 3,
   "metadata": {},
   "outputs": [
    {
     "name": "stdout",
     "output_type": "stream",
     "text": [
      "[4 5 6]\n"
     ]
    },
    {
     "data": {
      "text/plain": [
       "numpy.ndarray"
      ]
     },
     "execution_count": 3,
     "metadata": {},
     "output_type": "execute_result"
    }
   ],
   "source": [
    "arr = np.array([4,5,6])\n",
    "print(arr)\n",
    "type(arr)"
   ]
  },
  {
   "cell_type": "code",
   "execution_count": 4,
   "metadata": {},
   "outputs": [
    {
     "name": "stdout",
     "output_type": "stream",
     "text": [
      "[(1, 4), (2, 5), (3, 6)]\n",
      "\n",
      "size of list n_list:  3\n"
     ]
    }
   ],
   "source": [
    "n_list= list(zip(l,arr))\n",
    "print(n_list)\n",
    "print()\n",
    "print(\"size of list n_list: \",len(n_list))\n",
    "#it is a list of tuples"
   ]
  },
  {
   "cell_type": "code",
   "execution_count": 5,
   "metadata": {},
   "outputs": [
    {
     "name": "stdout",
     "output_type": "stream",
     "text": [
      "[[1 4]\n",
      " [2 5]\n",
      " [3 6]]\n",
      "shape of our array b:  (3, 2)\n"
     ]
    }
   ],
   "source": [
    "#conversion of list to numpy array\n",
    "b = np.array(n_list)\n",
    "print(b)\n",
    "print(\"shape of our array b: \",b.shape)"
   ]
  },
  {
   "cell_type": "code",
   "execution_count": 6,
   "metadata": {},
   "outputs": [
    {
     "data": {
      "text/plain": [
       "array([[4, 7],\n",
       "       [5, 8],\n",
       "       [6, 9]])"
      ]
     },
     "execution_count": 6,
     "metadata": {},
     "output_type": "execute_result"
    }
   ],
   "source": [
    "#adding a scalar value to a matrix b\n",
    "result=b+3\n",
    "result"
   ]
  },
  {
   "cell_type": "code",
   "execution_count": 7,
   "metadata": {},
   "outputs": [
    {
     "data": {
      "text/plain": [
       "array([[4, 7],\n",
       "       [5, 8],\n",
       "       [6, 9]])"
      ]
     },
     "execution_count": 7,
     "metadata": {},
     "output_type": "execute_result"
    }
   ],
   "source": [
    "result=3+b\n",
    "result\n",
    "#from the above two cells we can see that the order of addition in case of adding scalar to a matrix doesn't matter"
   ]
  },
  {
   "cell_type": "code",
   "execution_count": 8,
   "metadata": {},
   "outputs": [
    {
     "data": {
      "text/plain": [
       "array([[-5, -2],\n",
       "       [-4, -1],\n",
       "       [-3,  0]])"
      ]
     },
     "execution_count": 8,
     "metadata": {},
     "output_type": "execute_result"
    }
   ],
   "source": [
    "#subtracting a scalar value to a matrix b\n",
    "result=b-6\n",
    "result"
   ]
  },
  {
   "cell_type": "code",
   "execution_count": 9,
   "metadata": {},
   "outputs": [
    {
     "data": {
      "text/plain": [
       "array([[5, 2],\n",
       "       [4, 1],\n",
       "       [3, 0]])"
      ]
     },
     "execution_count": 9,
     "metadata": {},
     "output_type": "execute_result"
    }
   ],
   "source": [
    "result=6-b\n",
    "result"
   ]
  },
  {
   "cell_type": "code",
   "execution_count": 10,
   "metadata": {},
   "outputs": [
    {
     "data": {
      "text/plain": [
       "array([[ 3, 12],\n",
       "       [ 6, 15],\n",
       "       [ 9, 18]])"
      ]
     },
     "execution_count": 10,
     "metadata": {},
     "output_type": "execute_result"
    }
   ],
   "source": [
    "result = 3*b\n",
    "result"
   ]
  },
  {
   "cell_type": "code",
   "execution_count": 11,
   "metadata": {},
   "outputs": [
    {
     "name": "stdout",
     "output_type": "stream",
     "text": [
      "first matrix:\n",
      " [[8 7 5]\n",
      " [6 6 8]]\n",
      "\n",
      "second matrix:\n",
      " [[11 10 11]\n",
      " [10 15 11]]\n",
      "\n",
      "sum of matrices:\n",
      " [[19 17 16]\n",
      " [16 21 19]]\n"
     ]
    }
   ],
   "source": [
    "#addition of two matrices\n",
    "mat1= np.random.randint(5,9,(2,3))\n",
    "mat2= np.random.randint(10,20,(2,3))\n",
    "print(\"first matrix:\\n\",mat1)\n",
    "print()\n",
    "print(\"second matrix:\\n\",mat2)\n",
    "print()\n",
    "print(\"sum of matrices:\\n\",mat1+mat2)"
   ]
  },
  {
   "cell_type": "code",
   "execution_count": 12,
   "metadata": {},
   "outputs": [
    {
     "name": "stdout",
     "output_type": "stream",
     "text": [
      "matrix:\n",
      " [[8 7 5]\n",
      " [6 6 8]]\n",
      "\n",
      "vector:\n",
      " [0 1 2]\n",
      "\n",
      "sum:\n"
     ]
    },
    {
     "data": {
      "text/plain": [
       "array([[ 8,  8,  7],\n",
       "       [ 6,  7, 10]])"
      ]
     },
     "execution_count": 12,
     "metadata": {},
     "output_type": "execute_result"
    }
   ],
   "source": [
    "#addition b/w vector and matrix\n",
    "vec = np.arange(3)\n",
    "print(\"matrix:\\n\",mat1)\n",
    "print()\n",
    "print(\"vector:\\n\",vec)\n",
    "mat = mat1+vec\n",
    "print()\n",
    "print(\"sum:\")\n",
    "mat"
   ]
  },
  {
   "cell_type": "code",
   "execution_count": 13,
   "metadata": {},
   "outputs": [
    {
     "name": "stdout",
     "output_type": "stream",
     "text": [
      "product of matrices:\n",
      " [[88 70 55]\n",
      " [60 90 88]]\n"
     ]
    }
   ],
   "source": [
    "# multiplication of two matrices\n",
    "print(\"product of matrices:\\n\",mat1*mat2)"
   ]
  },
  {
   "cell_type": "code",
   "execution_count": 14,
   "metadata": {},
   "outputs": [
    {
     "name": "stdout",
     "output_type": "stream",
     "text": [
      "new matrix 2:\n",
      " [[7 5]\n",
      " [8 3]\n",
      " [7 9]]\n",
      "\n",
      "shape of our new matrix mat2:  (3, 2)\n",
      "shape of mat1: (2, 3)\n",
      "\n"
     ]
    },
    {
     "ename": "ValueError",
     "evalue": "operands could not be broadcast together with shapes (2,3) (3,2) ",
     "output_type": "error",
     "traceback": [
      "\u001b[1;31m---------------------------------------------------------------------------\u001b[0m",
      "\u001b[1;31mValueError\u001b[0m                                Traceback (most recent call last)",
      "\u001b[1;32m<ipython-input-14-af5bc86219bf>\u001b[0m in \u001b[0;36m<module>\u001b[1;34m\u001b[0m\n\u001b[0;32m      5\u001b[0m \u001b[0mprint\u001b[0m\u001b[1;33m(\u001b[0m\u001b[1;34m\"shape of mat1:\"\u001b[0m\u001b[1;33m,\u001b[0m \u001b[0mmat1\u001b[0m\u001b[1;33m.\u001b[0m\u001b[0mshape\u001b[0m\u001b[1;33m)\u001b[0m\u001b[1;33m\u001b[0m\u001b[1;33m\u001b[0m\u001b[0m\n\u001b[0;32m      6\u001b[0m \u001b[0mprint\u001b[0m\u001b[1;33m(\u001b[0m\u001b[1;33m)\u001b[0m\u001b[1;33m\u001b[0m\u001b[1;33m\u001b[0m\u001b[0m\n\u001b[1;32m----> 7\u001b[1;33m \u001b[0mprint\u001b[0m\u001b[1;33m(\u001b[0m\u001b[1;34m\"product of matrices:\\n\"\u001b[0m\u001b[1;33m,\u001b[0m\u001b[0mmat1\u001b[0m\u001b[1;33m*\u001b[0m\u001b[0mmat2\u001b[0m\u001b[1;33m)\u001b[0m\u001b[1;33m\u001b[0m\u001b[1;33m\u001b[0m\u001b[0m\n\u001b[0m",
      "\u001b[1;31mValueError\u001b[0m: operands could not be broadcast together with shapes (2,3) (3,2) "
     ]
    }
   ],
   "source": [
    "mat2= np.random.randint(1,10,(3,2))\n",
    "print(\"new matrix 2:\\n\",mat2)\n",
    "print()\n",
    "print(\"shape of our new matrix mat2: \", mat2.shape)\n",
    "print(\"shape of mat1:\", mat1.shape)\n",
    "print()\n",
    "print(\"product of matrices:\\n\",mat1*mat2)"
   ]
  },
  {
   "cell_type": "code",
   "execution_count": 15,
   "metadata": {},
   "outputs": [
    {
     "name": "stdout",
     "output_type": "stream",
     "text": [
      "product of matrices:\n",
      " [[147 106]\n",
      " [146 120]]\n"
     ]
    }
   ],
   "source": [
    "#the rule: that the no. of columns of first matrix and no. of rows of second matrix must be same\n",
    "#this rule can be understood with the use of dot() operator of numpy library.\n",
    "print(\"product of matrices:\\n\",mat1.dot(mat2))"
   ]
  },
  {
   "cell_type": "code",
   "execution_count": 16,
   "metadata": {},
   "outputs": [
    {
     "name": "stdout",
     "output_type": "stream",
     "text": [
      "product of matrices:\n",
      " [[147 106]\n",
      " [146 120]]\n"
     ]
    }
   ],
   "source": [
    "#Another way of performing dot operation on two matrices\n",
    "print(\"product of matrices:\\n\",np.dot(mat1,mat2))"
   ]
  },
  {
   "cell_type": "code",
   "execution_count": 17,
   "metadata": {},
   "outputs": [
    {
     "name": "stdout",
     "output_type": "stream",
     "text": [
      "[[7 5 8]\n",
      " [3 7 9]]\n"
     ]
    }
   ],
   "source": [
    "#reshaping matrix mat2 to (2,3)\n",
    "mat2= mat2.reshape((2,3))\n",
    "print(mat2)"
   ]
  },
  {
   "cell_type": "code",
   "execution_count": 18,
   "metadata": {},
   "outputs": [
    {
     "ename": "ValueError",
     "evalue": "shapes (2,3) and (2,3) not aligned: 3 (dim 1) != 2 (dim 0)",
     "output_type": "error",
     "traceback": [
      "\u001b[1;31m---------------------------------------------------------------------------\u001b[0m",
      "\u001b[1;31mValueError\u001b[0m                                Traceback (most recent call last)",
      "\u001b[1;32m<ipython-input-18-234f74a608d0>\u001b[0m in \u001b[0;36m<module>\u001b[1;34m\u001b[0m\n\u001b[0;32m      1\u001b[0m \u001b[1;31m# to show that violation of above rule would cause errors\u001b[0m\u001b[1;33m\u001b[0m\u001b[1;33m\u001b[0m\u001b[1;33m\u001b[0m\u001b[0m\n\u001b[1;32m----> 2\u001b[1;33m \u001b[0mprint\u001b[0m\u001b[1;33m(\u001b[0m\u001b[1;34m\"product of matrices:\\n\"\u001b[0m\u001b[1;33m,\u001b[0m\u001b[0mnp\u001b[0m\u001b[1;33m.\u001b[0m\u001b[0mdot\u001b[0m\u001b[1;33m(\u001b[0m\u001b[0mmat1\u001b[0m\u001b[1;33m,\u001b[0m\u001b[0mmat2\u001b[0m\u001b[1;33m)\u001b[0m\u001b[1;33m)\u001b[0m\u001b[1;33m\u001b[0m\u001b[1;33m\u001b[0m\u001b[0m\n\u001b[0m",
      "\u001b[1;32m<__array_function__ internals>\u001b[0m in \u001b[0;36mdot\u001b[1;34m(*args, **kwargs)\u001b[0m\n",
      "\u001b[1;31mValueError\u001b[0m: shapes (2,3) and (2,3) not aligned: 3 (dim 1) != 2 (dim 0)"
     ]
    }
   ],
   "source": [
    "# to show that violation of above rule would cause errors\n",
    "print(\"product of matrices:\\n\",np.dot(mat1,mat2))"
   ]
  },
  {
   "cell_type": "code",
   "execution_count": 19,
   "metadata": {},
   "outputs": [
    {
     "name": "stdout",
     "output_type": "stream",
     "text": [
      "[[0 1 2]\n",
      " [3 4 5]\n",
      " [6 7 8]]\n"
     ]
    },
    {
     "ename": "LinAlgError",
     "evalue": "Singular matrix",
     "output_type": "error",
     "traceback": [
      "\u001b[1;31m---------------------------------------------------------------------------\u001b[0m",
      "\u001b[1;31mLinAlgError\u001b[0m                               Traceback (most recent call last)",
      "\u001b[1;32m<ipython-input-19-2bd67a205d3c>\u001b[0m in \u001b[0;36m<module>\u001b[1;34m\u001b[0m\n\u001b[0;32m      7\u001b[0m \u001b[0mc\u001b[0m \u001b[1;33m=\u001b[0m \u001b[0mnp\u001b[0m\u001b[1;33m.\u001b[0m\u001b[0marange\u001b[0m\u001b[1;33m(\u001b[0m\u001b[1;36m9\u001b[0m\u001b[1;33m)\u001b[0m\u001b[1;33m.\u001b[0m\u001b[0mreshape\u001b[0m\u001b[1;33m(\u001b[0m\u001b[1;36m3\u001b[0m\u001b[1;33m,\u001b[0m\u001b[1;36m3\u001b[0m\u001b[1;33m)\u001b[0m\u001b[1;33m\u001b[0m\u001b[1;33m\u001b[0m\u001b[0m\n\u001b[0;32m      8\u001b[0m \u001b[0mprint\u001b[0m\u001b[1;33m(\u001b[0m\u001b[0mc\u001b[0m\u001b[1;33m)\u001b[0m\u001b[1;33m\u001b[0m\u001b[1;33m\u001b[0m\u001b[0m\n\u001b[1;32m----> 9\u001b[1;33m \u001b[0mc_inverse\u001b[0m\u001b[1;33m=\u001b[0m \u001b[0mnp\u001b[0m\u001b[1;33m.\u001b[0m\u001b[0mlinalg\u001b[0m\u001b[1;33m.\u001b[0m\u001b[0minv\u001b[0m\u001b[1;33m(\u001b[0m\u001b[0mc\u001b[0m\u001b[1;33m)\u001b[0m\u001b[1;33m\u001b[0m\u001b[1;33m\u001b[0m\u001b[0m\n\u001b[0m\u001b[0;32m     10\u001b[0m \u001b[0mc_inverse\u001b[0m\u001b[1;33m\u001b[0m\u001b[1;33m\u001b[0m\u001b[0m\n",
      "\u001b[1;32m<__array_function__ internals>\u001b[0m in \u001b[0;36minv\u001b[1;34m(*args, **kwargs)\u001b[0m\n",
      "\u001b[1;32m~\\anaconda3\\lib\\site-packages\\numpy\\linalg\\linalg.py\u001b[0m in \u001b[0;36minv\u001b[1;34m(a)\u001b[0m\n\u001b[0;32m    545\u001b[0m     \u001b[0msignature\u001b[0m \u001b[1;33m=\u001b[0m \u001b[1;34m'D->D'\u001b[0m \u001b[1;32mif\u001b[0m \u001b[0misComplexType\u001b[0m\u001b[1;33m(\u001b[0m\u001b[0mt\u001b[0m\u001b[1;33m)\u001b[0m \u001b[1;32melse\u001b[0m \u001b[1;34m'd->d'\u001b[0m\u001b[1;33m\u001b[0m\u001b[1;33m\u001b[0m\u001b[0m\n\u001b[0;32m    546\u001b[0m     \u001b[0mextobj\u001b[0m \u001b[1;33m=\u001b[0m \u001b[0mget_linalg_error_extobj\u001b[0m\u001b[1;33m(\u001b[0m\u001b[0m_raise_linalgerror_singular\u001b[0m\u001b[1;33m)\u001b[0m\u001b[1;33m\u001b[0m\u001b[1;33m\u001b[0m\u001b[0m\n\u001b[1;32m--> 547\u001b[1;33m     \u001b[0mainv\u001b[0m \u001b[1;33m=\u001b[0m \u001b[0m_umath_linalg\u001b[0m\u001b[1;33m.\u001b[0m\u001b[0minv\u001b[0m\u001b[1;33m(\u001b[0m\u001b[0ma\u001b[0m\u001b[1;33m,\u001b[0m \u001b[0msignature\u001b[0m\u001b[1;33m=\u001b[0m\u001b[0msignature\u001b[0m\u001b[1;33m,\u001b[0m \u001b[0mextobj\u001b[0m\u001b[1;33m=\u001b[0m\u001b[0mextobj\u001b[0m\u001b[1;33m)\u001b[0m\u001b[1;33m\u001b[0m\u001b[1;33m\u001b[0m\u001b[0m\n\u001b[0m\u001b[0;32m    548\u001b[0m     \u001b[1;32mreturn\u001b[0m \u001b[0mwrap\u001b[0m\u001b[1;33m(\u001b[0m\u001b[0mainv\u001b[0m\u001b[1;33m.\u001b[0m\u001b[0mastype\u001b[0m\u001b[1;33m(\u001b[0m\u001b[0mresult_t\u001b[0m\u001b[1;33m,\u001b[0m \u001b[0mcopy\u001b[0m\u001b[1;33m=\u001b[0m\u001b[1;32mFalse\u001b[0m\u001b[1;33m)\u001b[0m\u001b[1;33m)\u001b[0m\u001b[1;33m\u001b[0m\u001b[1;33m\u001b[0m\u001b[0m\n\u001b[0;32m    549\u001b[0m \u001b[1;33m\u001b[0m\u001b[0m\n",
      "\u001b[1;32m~\\anaconda3\\lib\\site-packages\\numpy\\linalg\\linalg.py\u001b[0m in \u001b[0;36m_raise_linalgerror_singular\u001b[1;34m(err, flag)\u001b[0m\n\u001b[0;32m     95\u001b[0m \u001b[1;33m\u001b[0m\u001b[0m\n\u001b[0;32m     96\u001b[0m \u001b[1;32mdef\u001b[0m \u001b[0m_raise_linalgerror_singular\u001b[0m\u001b[1;33m(\u001b[0m\u001b[0merr\u001b[0m\u001b[1;33m,\u001b[0m \u001b[0mflag\u001b[0m\u001b[1;33m)\u001b[0m\u001b[1;33m:\u001b[0m\u001b[1;33m\u001b[0m\u001b[1;33m\u001b[0m\u001b[0m\n\u001b[1;32m---> 97\u001b[1;33m     \u001b[1;32mraise\u001b[0m \u001b[0mLinAlgError\u001b[0m\u001b[1;33m(\u001b[0m\u001b[1;34m\"Singular matrix\"\u001b[0m\u001b[1;33m)\u001b[0m\u001b[1;33m\u001b[0m\u001b[1;33m\u001b[0m\u001b[0m\n\u001b[0m\u001b[0;32m     98\u001b[0m \u001b[1;33m\u001b[0m\u001b[0m\n\u001b[0;32m     99\u001b[0m \u001b[1;32mdef\u001b[0m \u001b[0m_raise_linalgerror_nonposdef\u001b[0m\u001b[1;33m(\u001b[0m\u001b[0merr\u001b[0m\u001b[1;33m,\u001b[0m \u001b[0mflag\u001b[0m\u001b[1;33m)\u001b[0m\u001b[1;33m:\u001b[0m\u001b[1;33m\u001b[0m\u001b[1;33m\u001b[0m\u001b[0m\n",
      "\u001b[1;31mLinAlgError\u001b[0m: Singular matrix"
     ]
    }
   ],
   "source": [
    "# please note that we can't find the inverse of a non-square matrix\n",
    "# we first made an array of 9 numbers from 0 to 9 and then reshaped it into a 3 by 3 matrix\n",
    "# then we tried to find its inverse\n",
    "# but for the matrix below, it gives error\n",
    "# as the matrix is a singular matrix\n",
    "# a singular matrix because the value of its determinant is 0\n",
    "c = np.arange(9).reshape(3,3)\n",
    "print(c)\n",
    "c_inverse= np.linalg.inv(c)\n",
    "c_inverse"
   ]
  },
  {
   "cell_type": "code",
   "execution_count": 20,
   "metadata": {},
   "outputs": [
    {
     "name": "stdout",
     "output_type": "stream",
     "text": [
      "[[4 5 4]\n",
      " [2 8 9]\n",
      " [3 7 1]]\n"
     ]
    },
    {
     "data": {
      "text/plain": [
       "array([[ 0.40740741, -0.17037037, -0.0962963 ],\n",
       "       [-0.18518519,  0.05925926,  0.20740741],\n",
       "       [ 0.07407407,  0.0962963 , -0.16296296]])"
      ]
     },
     "execution_count": 20,
     "metadata": {},
     "output_type": "execute_result"
    }
   ],
   "source": [
    "#lets try for some other matrix\n",
    "#c = np.random.randint(1,10,(3,3))\n",
    "c = np.array([[4,5,4],[2,8,9],[3,7,1]])\n",
    "print(c)\n",
    "c_inverse=np.linalg.inv(c)\n",
    "c_inverse"
   ]
  },
  {
   "cell_type": "code",
   "execution_count": 21,
   "metadata": {},
   "outputs": [
    {
     "data": {
      "text/plain": [
       "array([[ 1.00000000e+00,  0.00000000e+00, -1.11022302e-16],\n",
       "       [-1.11022302e-16,  1.00000000e+00, -1.94289029e-16],\n",
       "       [-1.11022302e-16,  8.32667268e-17,  1.00000000e+00]])"
      ]
     },
     "execution_count": 21,
     "metadata": {},
     "output_type": "execute_result"
    }
   ],
   "source": [
    "# multiply the c_inverse and c using dot operator\n",
    "np.dot(c,c_inverse)"
   ]
  },
  {
   "cell_type": "code",
   "execution_count": 22,
   "metadata": {},
   "outputs": [
    {
     "data": {
      "text/plain": [
       "array([[ 1.00000000e+00,  0.00000000e+00, -1.11022302e-16],\n",
       "       [-1.11022302e-16,  1.00000000e+00, -1.94289029e-16],\n",
       "       [-1.11022302e-16,  8.32667268e-17,  1.00000000e+00]])"
      ]
     },
     "execution_count": 22,
     "metadata": {},
     "output_type": "execute_result"
    }
   ],
   "source": [
    "c.dot(c_inverse)"
   ]
  },
  {
   "cell_type": "code",
   "execution_count": 23,
   "metadata": {},
   "outputs": [
    {
     "data": {
      "text/plain": [
       "array([[ 1.62962963, -0.85185185, -0.38518519],\n",
       "       [-0.37037037,  0.47407407,  1.86666667],\n",
       "       [ 0.22222222,  0.67407407, -0.16296296]])"
      ]
     },
     "execution_count": 23,
     "metadata": {},
     "output_type": "execute_result"
    }
   ],
   "source": [
    "c*c_inverse"
   ]
  },
  {
   "cell_type": "code",
   "execution_count": 24,
   "metadata": {},
   "outputs": [
    {
     "data": {
      "text/plain": [
       "array([[ 1.62962963, -0.85185185, -0.38518519],\n",
       "       [-0.37037037,  0.47407407,  1.86666667],\n",
       "       [ 0.22222222,  0.67407407, -0.16296296]])"
      ]
     },
     "execution_count": 24,
     "metadata": {},
     "output_type": "execute_result"
    }
   ],
   "source": [
    "c_inverse*c"
   ]
  },
  {
   "cell_type": "code",
   "execution_count": 52,
   "metadata": {},
   "outputs": [
    {
     "name": "stdout",
     "output_type": "stream",
     "text": [
      "matrix a:\n",
      " [[3 1 7 9 5]\n",
      " [4 2 1 1 1]\n",
      " [1 1 5 8 9]]\n",
      "\n",
      "shape of matrix a:  (3, 5)\n",
      "transpose of a:\n",
      " [[3 4 1]\n",
      " [1 2 1]\n",
      " [7 1 5]\n",
      " [9 1 8]\n",
      " [5 1 9]]\n",
      "\n",
      "shape of transpose matrix of a:  (5, 3)\n"
     ]
    }
   ],
   "source": [
    "#note that the transpose operation on the matrix doesn't \n",
    "#actually affect the original matrix a but it just creates a copy of \n",
    "# the matrix for display\n",
    "# I had to assign that copy back to the original matrix's variable \n",
    "#to display the change of shape via this operation\n",
    "a=np.random.randint(1,10,(3,5))\n",
    "print(\"matrix a:\\n\",a)\n",
    "print()\n",
    "print(\"shape of matrix a: \",a.shape)\n",
    "print(\"transpose of a:\\n\",a.T)\n",
    "a=a.T\n",
    "print()\n",
    "print(\"shape of transpose matrix of a: \", a.shape)"
   ]
  },
  {
   "cell_type": "code",
   "execution_count": 26,
   "metadata": {},
   "outputs": [
    {
     "name": "stdout",
     "output_type": "stream",
     "text": [
      "matrix b:\n",
      " [[8 6]\n",
      " [5 6]\n",
      " [8 5]]\n",
      "\n",
      "Method 1:\n",
      "[[ 95 118  62  95 153]\n",
      " [ 70  96  58  74 119]]\n",
      "\n",
      "Method 2:\n",
      "[[ 95 118  62  95 153]\n",
      " [ 70  96  58  74 119]]\n"
     ]
    }
   ],
   "source": [
    "# Transposing the dot product of two matrices by two methods:\n",
    "b=np.random.randint(5,10,(3,2))\n",
    "print(\"matrix b:\\n\",b)\n",
    "print()\n",
    "\n",
    "#method 1:\n",
    "print(\"Method 1:\")\n",
    "print(b.T.dot(a.T))\n",
    "print()\n",
    "\n",
    "#method 2:\n",
    "print(\"Method 2:\")\n",
    "print(a.dot(b).T)\n",
    "\n",
    "#we get the same answers from both of them"
   ]
  },
  {
   "cell_type": "code",
   "execution_count": 27,
   "metadata": {},
   "outputs": [
    {
     "name": "stdout",
     "output_type": "stream",
     "text": [
      "[[2 3 8]\n",
      " [5 6 6]\n",
      " [2 6 2]\n",
      " [6 3 4]\n",
      " [9 5 7]]\n",
      "\n"
     ]
    },
    {
     "data": {
      "text/plain": [
       "array([[ 2,  6, 24],\n",
       "       [ 5, 12, 18],\n",
       "       [ 2, 12,  6],\n",
       "       [ 6,  6, 12],\n",
       "       [ 9, 10, 21]])"
      ]
     },
     "execution_count": 27,
     "metadata": {},
     "output_type": "execute_result"
    }
   ],
   "source": [
    "# matrix and vector multiplication \n",
    "# here, we can see broadcasting because, the elements of \n",
    "# the vector are multiplied to the respective elements of each row of the matrix\n",
    "#It is broadcasting because unlike matrix multiplication in which \n",
    "# (5,3) x (3,1) => (5,1) shape, the shape here is retained.\n",
    "print(a)\n",
    "print()\n",
    "vec = np.array([1,2,3])\n",
    "vec*a"
   ]
  },
  {
   "cell_type": "code",
   "execution_count": 28,
   "metadata": {},
   "outputs": [
    {
     "data": {
      "text/plain": [
       "array([32, 35, 20, 24, 40])"
      ]
     },
     "execution_count": 28,
     "metadata": {},
     "output_type": "execute_result"
    }
   ],
   "source": [
    "# matrix and vector multiplication \n",
    "# multiplication b/w arrays of shape (5,3) and (3,)\n",
    "# the column of matrix and shape of vector match \n",
    "# so, multiplication is possible\n",
    "np.dot(a,vec)"
   ]
  },
  {
   "cell_type": "code",
   "execution_count": 29,
   "metadata": {},
   "outputs": [
    {
     "ename": "ValueError",
     "evalue": "shapes (3,) and (5,3) not aligned: 3 (dim 0) != 5 (dim 0)",
     "output_type": "error",
     "traceback": [
      "\u001b[1;31m---------------------------------------------------------------------------\u001b[0m",
      "\u001b[1;31mValueError\u001b[0m                                Traceback (most recent call last)",
      "\u001b[1;32m<ipython-input-29-01474684c89a>\u001b[0m in \u001b[0;36m<module>\u001b[1;34m\u001b[0m\n\u001b[1;32m----> 1\u001b[1;33m \u001b[0mnp\u001b[0m\u001b[1;33m.\u001b[0m\u001b[0mdot\u001b[0m\u001b[1;33m(\u001b[0m\u001b[0mvec\u001b[0m\u001b[1;33m,\u001b[0m\u001b[0ma\u001b[0m\u001b[1;33m)\u001b[0m\u001b[1;33m\u001b[0m\u001b[1;33m\u001b[0m\u001b[0m\n\u001b[0m",
      "\u001b[1;32m<__array_function__ internals>\u001b[0m in \u001b[0;36mdot\u001b[1;34m(*args, **kwargs)\u001b[0m\n",
      "\u001b[1;31mValueError\u001b[0m: shapes (3,) and (5,3) not aligned: 3 (dim 0) != 5 (dim 0)"
     ]
    }
   ],
   "source": [
    "np.dot(vec,a)"
   ]
  },
  {
   "cell_type": "code",
   "execution_count": 53,
   "metadata": {},
   "outputs": [],
   "source": [
    "# finding out the eigenvalues and eigen vectors\n",
    "from numpy.linalg import eig"
   ]
  },
  {
   "cell_type": "code",
   "execution_count": 54,
   "metadata": {},
   "outputs": [
    {
     "name": "stdout",
     "output_type": "stream",
     "text": [
      "eigenvalue :  [-0.46410162  6.46410162]\n",
      "eigenvector :  [[-0.80689822 -0.34372377]\n",
      " [ 0.59069049 -0.9390708 ]]\n"
     ]
    }
   ],
   "source": [
    "# first value is eigenvalue and second gives eigen vectors\n",
    "a = np.array([[1,2],[4,5]])\n",
    "#unpacking respective values\n",
    "eigen_val, eigen_vec = eig(a)\n",
    "print(\"eigenvalue : \",eigen_val)\n",
    "print(\"eigenvector : \",eigen_vec)"
   ]
  },
  {
   "cell_type": "code",
   "execution_count": 55,
   "metadata": {},
   "outputs": [
    {
     "name": "stdout",
     "output_type": "stream",
     "text": [
      "L1 norm value:  12.0\n",
      "L2 norm value:  7.0710678118654755\n",
      "L-inf norm value:  5.0\n",
      "L0 norm value:  3.0\n"
     ]
    }
   ],
   "source": [
    "# we would also find out the norm of our vectors\n",
    "import numpy as np\n",
    "from numpy.linalg import norm \n",
    "#different types of norms\n",
    "vec = np.array([3,4,5])\n",
    "# norm L1\n",
    "vecnorm = norm(vec,1)\n",
    "print(\"L1 norm value: \",vecnorm)\n",
    "# norm L2\n",
    "vecnorm = norm(vec,2)\n",
    "print(\"L2 norm value: \",vecnorm)\n",
    "# norm L-inf\n",
    "vecnorm = norm(vec,np.inf)\n",
    "print(\"L-inf norm value: \",vecnorm)\n",
    "# norm L0\n",
    "vecnorm = norm(vec,0)\n",
    "print(\"L0 norm value: \",vecnorm)"
   ]
  },
  {
   "cell_type": "code",
   "execution_count": 33,
   "metadata": {},
   "outputs": [
    {
     "name": "stdout",
     "output_type": "stream",
     "text": [
      "Matrix A :\n",
      " [[1 2]\n",
      " [4 5]]\n",
      "vector b :\n",
      " [4 5]\n",
      "solution :\n",
      "[-3.33333333  3.66666667]\n"
     ]
    }
   ],
   "source": [
    "# solving Ax=b where x and b are vectors and A is a matrix\n",
    "from numpy.linalg import solve\n",
    "A = np.array([[1,2],[4,5]])\n",
    "print(\"Matrix A :\\n\",A)\n",
    "b = np.array([4,5])\n",
    "print(\"vector b :\\n\",b)\n",
    "x = solve(A,b)\n",
    "print(\"solution :\")\n",
    "print(x)"
   ]
  },
  {
   "cell_type": "code",
   "execution_count": 34,
   "metadata": {},
   "outputs": [
    {
     "data": {
      "text/plain": [
       "matrix([[1, 2],\n",
       "        [3, 4],\n",
       "        [4, 5]])"
      ]
     },
     "execution_count": 34,
     "metadata": {},
     "output_type": "execute_result"
    }
   ],
   "source": [
    "#creating matrix\n",
    "A = np.matrix([[1,2],[3,4],[4,5]])\n",
    "A"
   ]
  },
  {
   "cell_type": "code",
   "execution_count": 35,
   "metadata": {},
   "outputs": [
    {
     "data": {
      "image/png": "[encoded data removed]",
      "text/plain": [
       "<Figure size 432x288 with 1 Axes>"
      ]
     },
     "metadata": {
      "needs_background": "light"
     },
     "output_type": "display_data"
    }
   ],
   "source": [
    "#plotting vectors using plt.quiver()\n",
    "xyuv= np.array([[0,0,2,3],[0,5,10,2]])\n",
    "#this unzips our array and unpacks the list into X,Y,U and Z respectively.\n",
    "X,Y,U,V=zip(*xyuv)\n",
    "plt.figure()\n",
    "#creates axis \n",
    "ax= plt.gca()\n",
    "# defining the color list for each arrow. There are four values for r,g,b,a where a is optional\n",
    "color=list([[0.5,0.1,0.6,1],[0,0.4,1]])\n",
    "ax.quiver(X, Y, U, V, angles='xy', scale_units='xy', scale=1,color=color)\n",
    "ax.set_xlim([0, 15])\n",
    "ax.set_ylim([0, 10])\n",
    "plt.draw()\n",
    "plt.show()\n",
    "#tail of the vector is defined by (x,y) and head by (u,v)\n",
    "# we formed two vectors one whose tail starts at (0,0) and head at (2,3)\n",
    "# second vector tail is at (0,5) and head is at (0+10,5+2)=(10,7)"
   ]
  },
  {
   "cell_type": "code",
   "execution_count": 36,
   "metadata": {},
   "outputs": [
    {
     "data": {
      "text/plain": [
       "array([[1., 0., 0., 0.],\n",
       "       [0., 1., 0., 0.],\n",
       "       [0., 0., 1., 0.],\n",
       "       [0., 0., 0., 1.]])"
      ]
     },
     "execution_count": 36,
     "metadata": {},
     "output_type": "execute_result"
    }
   ],
   "source": [
    "#Creating an identity matrix\n",
    "np.identity(4)"
   ]
  },
  {
   "cell_type": "code",
   "execution_count": 37,
   "metadata": {},
   "outputs": [
    {
     "name": "stdout",
     "output_type": "stream",
     "text": [
      "[[0 1 2]\n",
      " [3 4 5]\n",
      " [6 7 8]]\n",
      "determinant of matrix A:  0.0\n"
     ]
    }
   ],
   "source": [
    "#Finding determinant of a matrix\n",
    "A= np.arange(9).reshape(3,3)\n",
    "print(A)\n",
    "print(\"determinant of matrix A: \",np.linalg.det(A))"
   ]
  },
  {
   "cell_type": "code",
   "execution_count": 38,
   "metadata": {},
   "outputs": [
    {
     "name": "stdout",
     "output_type": "stream",
     "text": [
      "Matrix A:\n",
      "[[1 2]\n",
      " [3 4]]\n",
      "\n",
      "Inverse of A:\n",
      "[[-2.   1. ]\n",
      " [ 1.5 -0.5]]\n"
     ]
    }
   ],
   "source": [
    "#Another way we could find the inverse of a matrix\n",
    "#using numpy.linalg.solve()\n",
    "from numpy.linalg import solve\n",
    "A=np.matrix([[1,2],[3,4]])\n",
    "print(\"Matrix A:\")\n",
    "print(A)\n",
    "I=np.identity(2)\n",
    "B=solve(A,I) \n",
    "print()\n",
    "print(\"Inverse of A:\")\n",
    "print(B)"
   ]
  },
  {
   "cell_type": "code",
   "execution_count": 39,
   "metadata": {},
   "outputs": [
    {
     "data": {
      "text/plain": [
       "matrix([[1.00000000e+00, 1.11022302e-16],\n",
       "        [0.00000000e+00, 1.00000000e+00]])"
      ]
     },
     "execution_count": 39,
     "metadata": {},
     "output_type": "execute_result"
    }
   ],
   "source": [
    "A*B"
   ]
  },
  {
   "cell_type": "code",
   "execution_count": 40,
   "metadata": {},
   "outputs": [
    {
     "data": {
      "text/plain": [
       "matrix([[-2. ,  1. ],\n",
       "        [ 1.5, -0.5]])"
      ]
     },
     "execution_count": 40,
     "metadata": {},
     "output_type": "execute_result"
    }
   ],
   "source": [
    "#using the inverse function given in numpy \n",
    "np.linalg.inv(A)"
   ]
  },
  {
   "cell_type": "code",
   "execution_count": 50,
   "metadata": {},
   "outputs": [
    {
     "data": {
      "image/png": "[encoded data removed]",
      "text/plain": [
       "<Figure size 432x288 with 1 Axes>"
      ]
     },
     "metadata": {
      "needs_background": "light"
     },
     "output_type": "display_data"
    }
   ],
   "source": [
    "import numpy as np\n",
    "import matplotlib.pyplot as plt\n",
    "%matplotlib inline\n",
    "\n",
    "#vec is our given vector and is scaled by a factor of 5 \n",
    "#stored into scaled_vec\n",
    "\n",
    "vec = np.array([1,2])\n",
    "scaled_vec = 5*vec\n",
    "\n",
    "# the arguments involved are the \n",
    "# list of (x,y) points for tail and (u,v) points for head\n",
    "# (u,v) for both of vec and scaled_vec is \n",
    "# provided through the list l1 and l2 respectively\n",
    "\n",
    "xyuv = np.array([[0,0,5,10],[0,0,1,2]])\n",
    "\n",
    "#this unzips our array and unpacks the list into X,Y,U and Z respectively.\n",
    "X,Y,U,V=zip(*xyuv)\n",
    "plt.figure()\n",
    "\n",
    "#creates axis \n",
    "ax= plt.gca()\n",
    "\n",
    "# defining the color list for each arrow. \n",
    "# There are four values for r,g,b,a where a is for alpha value\n",
    "# a is an optional value for color.\n",
    "#if color isn't provided then the color of the arrows is black.\n",
    "\n",
    "color=list([[0.2,0.0,0.3,0.4],[0,0.4,1]])\n",
    "ax.quiver(X, Y, U, V, angles='xy', scale_units='xy', scale=1,color=color)\n",
    "ax.set_xlim([0, 15])\n",
    "ax.set_ylim([0, 10])\n",
    "plt.draw()\n",
    "plt.show()"
   ]
  },
  {
   "cell_type": "code",
   "execution_count": null,
   "metadata": {},
   "outputs": [],
   "source": []
  }
 ],
 "metadata": {
  "kernelspec": {
   "display_name": "Python 3",
   "language": "python",
   "name": "python3"
  },
  "language_info": {
   "codemirror_mode": {
    "name": "ipython",
    "version": 3
   },
   "file_extension": ".py",
   "mimetype": "text/x-python",
   "name": "python",
   "nbconvert_exporter": "python",
   "pygments_lexer": "ipython3",
   "version": "3.7.6"
  }
 },
 "nbformat": 4,
 "nbformat_minor": 4
}
